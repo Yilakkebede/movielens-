{
 "cells": [
  {
   "cell_type": "markdown",
   "metadata": {},
   "source": [
    "# Assignment Report for Data and Reporting Analyst position"
   ]
  },
  {
   "cell_type": "markdown",
   "metadata": {},
   "source": [
    "### Introduction\n",
    "This analysis used the data downloaded from www.grouplens.org, it is based on the discretion and elaboration in the Readme file. The report is produced in Jupyter Notebook R kernel to show both the coding and data visualization at the same time. Section -1, focused on building data set process; Section-2, on answering the first question, Section-3 on the second question and Section-4 on the third questions. As the questions are open-ended, additional analysis/ views are included"
   ]
  },
  {
   "cell_type": "markdown",
   "metadata": {},
   "source": [
    "# 1. Building Data set"
   ]
  },
  {
   "cell_type": "code",
   "execution_count": 86,
   "metadata": {},
   "outputs": [],
   "source": [
    "library(ggplot2)\n",
    "library(data.table)\n",
    "library(tidyverse)\n",
    "library(plyr)\n",
    "library(dplyr)\n",
    "library(repr)"
   ]
  },
  {
   "cell_type": "markdown",
   "metadata": {},
   "source": [
    "#### Data exploration and step by step loading and cleaning"
   ]
  },
  {
   "cell_type": "code",
   "execution_count": 3,
   "metadata": {},
   "outputs": [],
   "source": [
    "#loading users data\n",
    "users = readLines('C://Users/user/Desktop/movielens/users.dat')\n",
    "users = as.data.frame(do.call(\"rbind\", strsplit(users, \"::\")),stringsAsFactors = FALSE,age=as.numeric(levels(age))[age], occupation=as.character(occupation))\n",
    "names(users) = c(\"userID\", \"gender\", \"age\", \"occupation\",\"zip-code\")\n",
    "users= users %>% filter_at(vars(userID,gender,age,occupation,\"zip-code\"),all_vars(!is.na(.)))"
   ]
  },
  {
   "cell_type": "code",
   "execution_count": 4,
   "metadata": {},
   "outputs": [],
   "source": [
    "# loading movies.dat\n",
    "movie = readLines(\"C://Users/user/Desktop/movielens/movies.dat\")\n",
    "movie = as.data.frame(do.call(\"rbind\",strsplit(movie,\"::\")),stringsAsFactors = FALSE,\n",
    "                       movieId = as.numeric(levels(movieId))[movieId],\n",
    "                        title = as.character(title),\n",
    "                        genres = as.character(genres)) \n",
    "names(movie) = c(\"movieID\",\"title\",\"genres\")"
   ]
  },
  {
   "cell_type": "code",
   "execution_count": 5,
   "metadata": {},
   "outputs": [],
   "source": [
    "#Loading Ratings.DAT file\n",
    "ratings = readLines(\"C://Users/user/Desktop/movielens/ratings.dat\")\n",
    "ratings = as.data.frame(do.call(\"rbind\", strsplit(ratings, \"::\")),stringsAsFactors = FALSE, )\n",
    "names(ratings) = c(\"userID\", \"movieID\", \"rating\", \"timestamp\")"
   ]
  },
  {
   "cell_type": "markdown",
   "metadata": {},
   "source": []
  },
  {
   "cell_type": "code",
   "execution_count": 7,
   "metadata": {
    "scrolled": true
   },
   "outputs": [],
   "source": [
    "na_user = users %>% filter(is.na(userID) | is.na(gender)|is.na(age)|is.na(occupation))\n",
    "na_movie = movie %>% filter(is.na(movieID)|is.na(title)|is.na(genres))\n",
    "na_rating= ratings %>% filter(is.na(userID)| is.na(movieID)|is.na(rating)| is.na(timestamp))"
   ]
  },
  {
   "cell_type": "code",
   "execution_count": 8,
   "metadata": {},
   "outputs": [
    {
     "name": "stderr",
     "output_type": "stream",
     "text": [
      "Warning message:\n",
      "\"All formats failed to parse. No formats found.\""
     ]
    },
    {
     "data": {
      "text/plain": [
       "    userID            movieID             rating            timestamp      \n",
       " Length:1000209     Length:1000209     Length:1000209     Min.   :NA       \n",
       " Class :character   Class :character   Class :character   1st Qu.:NA       \n",
       " Mode  :character   Mode  :character   Mode  :character   Median :NA       \n",
       "                                                          Mean   :NA       \n",
       "                                                          3rd Qu.:NA       \n",
       "                                                          Max.   :NA       \n",
       "                                                          NA's   :1000209  "
      ]
     },
     "metadata": {},
     "output_type": "display_data"
    }
   ],
   "source": [
    "# further check is needed to see whether NA are introduced by coercion\n",
    "ratings_df <- ratings %>% mutate(timestamp = as_datetime(timestamp))\n",
    "summary(ratings_df)"
   ]
  },
  {
   "cell_type": "markdown",
   "metadata": {},
   "source": [
    "### Section-2  Answering \"What are the Top 10 movies in 2000?\""
   ]
  },
  {
   "cell_type": "markdown",
   "metadata": {},
   "source": [
    "#### Methodology for determining the top 10 in 2000\n",
    "It is possible to get a quick summary of the data by calculating a frequency table, given the movieID doesn't have different values. Thus, I used a frequency table function, table(), to calculate the number of occurrences of every unique value (movieID), which is the number of voted/rated for each movieID. Further, to filter out by year, extraction function is used, the title and year of release are separated. Sorting in descending order identified the top ten movies as shown below.\n",
    " "
   ]
  },
  {
   "cell_type": "code",
   "execution_count": 9,
   "metadata": {},
   "outputs": [
    {
     "data": {
      "text/html": [
       "<table>\n",
       "<thead><tr><th scope=col>movieID</th><th scope=col>no.-of-users-voted</th></tr></thead>\n",
       "<tbody>\n",
       "\t<tr><td>1   </td><td>2077</td></tr>\n",
       "\t<tr><td>10  </td><td> 888</td></tr>\n",
       "\t<tr><td>100 </td><td> 128</td></tr>\n",
       "\t<tr><td>1000</td><td>  20</td></tr>\n",
       "\t<tr><td>1002</td><td>   8</td></tr>\n",
       "\t<tr><td>1003</td><td> 121</td></tr>\n",
       "</tbody>\n",
       "</table>\n"
      ],
      "text/latex": [
       "\\begin{tabular}{r|ll}\n",
       " movieID & no.-of-users-voted\\\\\n",
       "\\hline\n",
       "\t 1    & 2077\\\\\n",
       "\t 10   &  888\\\\\n",
       "\t 100  &  128\\\\\n",
       "\t 1000 &   20\\\\\n",
       "\t 1002 &    8\\\\\n",
       "\t 1003 &  121\\\\\n",
       "\\end{tabular}\n"
      ],
      "text/markdown": [
       "\n",
       "movieID | no.-of-users-voted | \n",
       "|---|---|---|---|---|---|\n",
       "| 1    | 2077 | \n",
       "| 10   |  888 | \n",
       "| 100  |  128 | \n",
       "| 1000 |   20 | \n",
       "| 1002 |    8 | \n",
       "| 1003 |  121 | \n",
       "\n",
       "\n"
      ],
      "text/plain": [
       "  movieID no.-of-users-voted\n",
       "1 1       2077              \n",
       "2 10       888              \n",
       "3 100      128              \n",
       "4 1000      20              \n",
       "5 1002       8              \n",
       "6 1003     121              "
      ]
     },
     "metadata": {},
     "output_type": "display_data"
    }
   ],
   "source": [
    "number_vote = as.data.frame(table(ratings$movieID))\n",
    "names(number_vote) = c(\"movieID\", \"no.-of-users-voted\")\n",
    "head(number_vote)"
   ]
  },
  {
   "cell_type": "code",
   "execution_count": 10,
   "metadata": {},
   "outputs": [
    {
     "data": {
      "text/html": [
       "<table>\n",
       "<thead><tr><th></th><th scope=col>movieID</th><th scope=col>no.-of-users-voted</th><th scope=col>title</th><th scope=col>genres</th></tr></thead>\n",
       "<tbody>\n",
       "\t<tr><th scope=row>1917</th><td>2858                                                 </td><td>3428                                                 </td><td>American Beauty (1999)                               </td><td>Comedy|Drama                                         </td></tr>\n",
       "\t<tr><th scope=row>1641</th><td>260                                                  </td><td>2991                                                 </td><td>Star Wars: Episode IV - A New Hope (1977)            </td><td>Action|Adventure|Fantasy|Sci-Fi                      </td></tr>\n",
       "\t<tr><th scope=row>192</th><td>1196                                                 </td><td>2990                                                 </td><td>Star Wars: Episode V - The Empire Strikes Back (1980)</td><td>Action|Adventure|Drama|Sci-Fi|War                    </td></tr>\n",
       "\t<tr><th scope=row>209</th><td>1210                                                 </td><td>2883                                                 </td><td>Star Wars: Episode VI - Return of the Jedi (1983)    </td><td>Action|Adventure|Romance|Sci-Fi|War                  </td></tr>\n",
       "\t<tr><th scope=row>3183</th><td>480                                                  </td><td>2672                                                 </td><td>Jurassic Park (1993)                                 </td><td>Action|Adventure|Sci-Fi                              </td></tr>\n",
       "\t<tr><th scope=row>1026</th><td>2028                                                 </td><td>2653                                                 </td><td>Saving Private Ryan (1998)                           </td><td>Action|Drama|War                                     </td></tr>\n",
       "</tbody>\n",
       "</table>\n"
      ],
      "text/latex": [
       "\\begin{tabular}{r|llll}\n",
       "  & movieID & no.-of-users-voted & title & genres\\\\\n",
       "\\hline\n",
       "\t1917 & 2858                                                  & 3428                                                  & American Beauty (1999)                                & Comedy\\textbar{}Drama                               \\\\\n",
       "\t1641 & 260                                                               & 2991                                                              & Star Wars: Episode IV - A New Hope (1977)                         & Action\\textbar{}Adventure\\textbar{}Fantasy\\textbar{}Sci-Fi    \\\\\n",
       "\t192 & 1196                                                                        & 2990                                                                        & Star Wars: Episode V - The Empire Strikes Back (1980)                       & Action\\textbar{}Adventure\\textbar{}Drama\\textbar{}Sci-Fi\\textbar{}War  \\\\\n",
       "\t209 & 1210                                                                        & 2883                                                                        & Star Wars: Episode VI - Return of the Jedi (1983)                           & Action\\textbar{}Adventure\\textbar{}Romance\\textbar{}Sci-Fi\\textbar{}War\\\\\n",
       "\t3183 & 480                                                     & 2672                                                    & Jurassic Park (1993)                                    & Action\\textbar{}Adventure\\textbar{}Sci-Fi            \\\\\n",
       "\t1026 & 2028                                                    & 2653                                                    & Saving Private Ryan (1998)                              & Action\\textbar{}Drama\\textbar{}War                   \\\\\n",
       "\\end{tabular}\n"
      ],
      "text/markdown": [
       "\n",
       "| <!--/--> | movieID | no.-of-users-voted | title | genres | \n",
       "|---|---|---|---|---|---|\n",
       "| 1917 | 2858                                                  | 3428                                                  | American Beauty (1999)                                | Comedy|Drama                                          | \n",
       "| 1641 | 260                                                   | 2991                                                  | Star Wars: Episode IV - A New Hope (1977)             | Action|Adventure|Fantasy|Sci-Fi                       | \n",
       "| 192 | 1196                                                  | 2990                                                  | Star Wars: Episode V - The Empire Strikes Back (1980) | Action|Adventure|Drama|Sci-Fi|War                     | \n",
       "| 209 | 1210                                                  | 2883                                                  | Star Wars: Episode VI - Return of the Jedi (1983)     | Action|Adventure|Romance|Sci-Fi|War                   | \n",
       "| 3183 | 480                                                   | 2672                                                  | Jurassic Park (1993)                                  | Action|Adventure|Sci-Fi                               | \n",
       "| 1026 | 2028                                                  | 2653                                                  | Saving Private Ryan (1998)                            | Action|Drama|War                                      | \n",
       "\n",
       "\n"
      ],
      "text/plain": [
       "     movieID no.-of-users-voted\n",
       "1917 2858    3428              \n",
       "1641 260     2991              \n",
       "192  1196    2990              \n",
       "209  1210    2883              \n",
       "3183 480     2672              \n",
       "1026 2028    2653              \n",
       "     title                                                \n",
       "1917 American Beauty (1999)                               \n",
       "1641 Star Wars: Episode IV - A New Hope (1977)            \n",
       "192  Star Wars: Episode V - The Empire Strikes Back (1980)\n",
       "209  Star Wars: Episode VI - Return of the Jedi (1983)    \n",
       "3183 Jurassic Park (1993)                                 \n",
       "1026 Saving Private Ryan (1998)                           \n",
       "     genres                             \n",
       "1917 Comedy|Drama                       \n",
       "1641 Action|Adventure|Fantasy|Sci-Fi    \n",
       "192  Action|Adventure|Drama|Sci-Fi|War  \n",
       "209  Action|Adventure|Romance|Sci-Fi|War\n",
       "3183 Action|Adventure|Sci-Fi            \n",
       "1026 Action|Drama|War                   "
      ]
     },
     "metadata": {},
     "output_type": "display_data"
    }
   ],
   "source": [
    "# merging the no.-of-users-voted to \"movie\" data set\n",
    "number_vote_movie_merge = merge(number_vote, movie, by = \"movieID\")\n",
    "#sortin new dataset with decreasing Number.-of-Users-Voted\n",
    "number_vote_movie_merge = number_vote_movie_merge[order(number_vote_movie_merge$\"no.-of-users-voted\", decreasing = TRUE),] %>% na.omit() \n",
    "head(number_vote_movie_merge, )"
   ]
  },
  {
   "cell_type": "code",
   "execution_count": 11,
   "metadata": {},
   "outputs": [
    {
     "data": {
      "text/html": [
       "<table>\n",
       "<thead><tr><th scope=col>movieID</th><th scope=col>no.-of-users-voted</th><th scope=col>title</th><th scope=col>genres</th><th scope=col>release_year</th></tr></thead>\n",
       "<tbody>\n",
       "\t<tr><td>2858                                                 </td><td>3428                                                 </td><td>American Beauty (1999)                               </td><td>Comedy|Drama                                         </td><td>1999                                                 </td></tr>\n",
       "\t<tr><td>260                                                  </td><td>2991                                                 </td><td>Star Wars: Episode IV - A New Hope (1977)            </td><td>Action|Adventure|Fantasy|Sci-Fi                      </td><td>1977                                                 </td></tr>\n",
       "\t<tr><td>1196                                                 </td><td>2990                                                 </td><td>Star Wars: Episode V - The Empire Strikes Back (1980)</td><td>Action|Adventure|Drama|Sci-Fi|War                    </td><td>1980                                                 </td></tr>\n",
       "\t<tr><td>1210                                                 </td><td>2883                                                 </td><td>Star Wars: Episode VI - Return of the Jedi (1983)    </td><td>Action|Adventure|Romance|Sci-Fi|War                  </td><td>1983                                                 </td></tr>\n",
       "\t<tr><td>480                                                  </td><td>2672                                                 </td><td>Jurassic Park (1993)                                 </td><td>Action|Adventure|Sci-Fi                              </td><td>1993                                                 </td></tr>\n",
       "\t<tr><td>2028                                                 </td><td>2653                                                 </td><td>Saving Private Ryan (1998)                           </td><td>Action|Drama|War                                     </td><td>1998                                                 </td></tr>\n",
       "</tbody>\n",
       "</table>\n"
      ],
      "text/latex": [
       "\\begin{tabular}{r|lllll}\n",
       " movieID & no.-of-users-voted & title & genres & release\\_year\\\\\n",
       "\\hline\n",
       "\t 2858                                                  & 3428                                                  & American Beauty (1999)                                & Comedy\\textbar{}Drama                                & 1999                                                 \\\\\n",
       "\t 260                                                               & 2991                                                              & Star Wars: Episode IV - A New Hope (1977)                         & Action\\textbar{}Adventure\\textbar{}Fantasy\\textbar{}Sci-Fi     & 1977                                                             \\\\\n",
       "\t 1196                                                                        & 2990                                                                        & Star Wars: Episode V - The Empire Strikes Back (1980)                       & Action\\textbar{}Adventure\\textbar{}Drama\\textbar{}Sci-Fi\\textbar{}War   & 1980                                                                       \\\\\n",
       "\t 1210                                                                        & 2883                                                                        & Star Wars: Episode VI - Return of the Jedi (1983)                           & Action\\textbar{}Adventure\\textbar{}Romance\\textbar{}Sci-Fi\\textbar{}War & 1983                                                                       \\\\\n",
       "\t 480                                                     & 2672                                                    & Jurassic Park (1993)                                    & Action\\textbar{}Adventure\\textbar{}Sci-Fi             & 1993                                                   \\\\\n",
       "\t 2028                                                    & 2653                                                    & Saving Private Ryan (1998)                              & Action\\textbar{}Drama\\textbar{}War                    & 1998                                                   \\\\\n",
       "\\end{tabular}\n"
      ],
      "text/markdown": [
       "\n",
       "movieID | no.-of-users-voted | title | genres | release_year | \n",
       "|---|---|---|---|---|---|\n",
       "| 2858                                                  | 3428                                                  | American Beauty (1999)                                | Comedy|Drama                                          | 1999                                                  | \n",
       "| 260                                                   | 2991                                                  | Star Wars: Episode IV - A New Hope (1977)             | Action|Adventure|Fantasy|Sci-Fi                       | 1977                                                  | \n",
       "| 1196                                                  | 2990                                                  | Star Wars: Episode V - The Empire Strikes Back (1980) | Action|Adventure|Drama|Sci-Fi|War                     | 1980                                                  | \n",
       "| 1210                                                  | 2883                                                  | Star Wars: Episode VI - Return of the Jedi (1983)     | Action|Adventure|Romance|Sci-Fi|War                   | 1983                                                  | \n",
       "| 480                                                   | 2672                                                  | Jurassic Park (1993)                                  | Action|Adventure|Sci-Fi                               | 1993                                                  | \n",
       "| 2028                                                  | 2653                                                  | Saving Private Ryan (1998)                            | Action|Drama|War                                      | 1998                                                  | \n",
       "\n",
       "\n"
      ],
      "text/plain": [
       "  movieID no.-of-users-voted\n",
       "1 2858    3428              \n",
       "2 260     2991              \n",
       "3 1196    2990              \n",
       "4 1210    2883              \n",
       "5 480     2672              \n",
       "6 2028    2653              \n",
       "  title                                                \n",
       "1 American Beauty (1999)                               \n",
       "2 Star Wars: Episode IV - A New Hope (1977)            \n",
       "3 Star Wars: Episode V - The Empire Strikes Back (1980)\n",
       "4 Star Wars: Episode VI - Return of the Jedi (1983)    \n",
       "5 Jurassic Park (1993)                                 \n",
       "6 Saving Private Ryan (1998)                           \n",
       "  genres                              release_year\n",
       "1 Comedy|Drama                        1999        \n",
       "2 Action|Adventure|Fantasy|Sci-Fi     1977        \n",
       "3 Action|Adventure|Drama|Sci-Fi|War   1980        \n",
       "4 Action|Adventure|Romance|Sci-Fi|War 1983        \n",
       "5 Action|Adventure|Sci-Fi             1993        \n",
       "6 Action|Drama|War                    1998        "
      ]
     },
     "metadata": {},
     "output_type": "display_data"
    }
   ],
   "source": [
    "# extracting the (year) from the title, preparing for filtering \n",
    "release_year = stringi::stri_extract(number_vote_movie_merge$title, regex = \"(\\\\d{4})\", comments = TRUE ) %>% as.numeric() %>% na.omit()\n",
    "# forming the table that has separate realease year\n",
    "number_vote_title_year = number_vote_movie_merge %>% mutate(release_year = as.integer(release_year)) \n",
    "head(number_vote_title_year)"
   ]
  },
  {
   "cell_type": "markdown",
   "metadata": {},
   "source": [
    "#### The table below shows the top ten movies released in 2000, which the famous Gladiator got a higher vote/rate. Further, six out of the ten top-rated movies are from the \"Action\" category. Comparing the 1980,1990 and 2000 users rate, Action movies representation in the top 10 has increased from 30%, 40%, and 60% respectively. "
   ]
  },
  {
   "cell_type": "code",
   "execution_count": 12,
   "metadata": {
    "scrolled": false
   },
   "outputs": [
    {
     "data": {
      "text/html": [
       "<table>\n",
       "<thead><tr><th scope=col>movieID</th><th scope=col>no.-of-users-voted</th><th scope=col>title</th><th scope=col>genres</th><th scope=col>release_year</th></tr></thead>\n",
       "<tbody>\n",
       "\t<tr><td>3578                        </td><td>1924                        </td><td>Gladiator (2000)            </td><td>Action|Drama                </td><td>2000                        </td></tr>\n",
       "\t<tr><td>3793                        </td><td>1511                        </td><td>X-Men (2000)                </td><td>Action|Sci-Fi               </td><td>2000                        </td></tr>\n",
       "\t<tr><td>3481                        </td><td>1373                        </td><td>High Fidelity (2000)        </td><td>Comedy                      </td><td>2000                        </td></tr>\n",
       "\t<tr><td>3751                        </td><td>1329                        </td><td>Chicken Run (2000)          </td><td>Animation|Children's|Comedy </td><td>2000                        </td></tr>\n",
       "\t<tr><td>3408                        </td><td>1315                        </td><td>Erin Brockovich (2000)      </td><td>Drama                       </td><td>2000                        </td></tr>\n",
       "\t<tr><td>3623                        </td><td>1313                        </td><td>Mission: Impossible 2 (2000)</td><td>Action|Thriller             </td><td>2000                        </td></tr>\n",
       "\t<tr><td>3753                        </td><td>1240                        </td><td>Patriot, The (2000)         </td><td>Action|Drama|War            </td><td>2000                        </td></tr>\n",
       "\t<tr><td>3755                        </td><td>1013                        </td><td>Perfect Storm, The (2000)   </td><td>Action|Adventure|Thriller   </td><td>2000                        </td></tr>\n",
       "\t<tr><td>3897                        </td><td> 994                        </td><td>Almost Famous (2000)        </td><td>Comedy|Drama                </td><td>2000                        </td></tr>\n",
       "\t<tr><td>3555                        </td><td> 908                        </td><td>U-571 (2000)                </td><td>Action|Thriller             </td><td>2000                        </td></tr>\n",
       "</tbody>\n",
       "</table>\n"
      ],
      "text/latex": [
       "\\begin{tabular}{r|lllll}\n",
       " movieID & no.-of-users-voted & title & genres & release\\_year\\\\\n",
       "\\hline\n",
       "\t 3578                                  & 1924                                  & Gladiator (2000)                      & Action\\textbar{}Drama                & 2000                                 \\\\\n",
       "\t 3793                                  & 1511                                  & X-Men (2000)                          & Action\\textbar{}Sci-Fi               & 2000                                 \\\\\n",
       "\t 3481                         & 1373                         & High Fidelity (2000)         & Comedy                       & 2000                        \\\\\n",
       "\t 3751                                            & 1329                                            & Chicken Run (2000)                              & Animation\\textbar{}Children's\\textbar{}Comedy & 2000                                           \\\\\n",
       "\t 3408                         & 1315                         & Erin Brockovich (2000)       & Drama                        & 2000                        \\\\\n",
       "\t 3623                                  & 1313                                  & Mission: Impossible 2 (2000)          & Action\\textbar{}Thriller             & 2000                                 \\\\\n",
       "\t 3753                                            & 1240                                            & Patriot, The (2000)                             & Action\\textbar{}Drama\\textbar{}War            & 2000                                           \\\\\n",
       "\t 3755                                            & 1013                                            & Perfect Storm, The (2000)                       & Action\\textbar{}Adventure\\textbar{}Thriller   & 2000                                           \\\\\n",
       "\t 3897                                  &  994                                  & Almost Famous (2000)                  & Comedy\\textbar{}Drama                & 2000                                 \\\\\n",
       "\t 3555                                  &  908                                  & U-571 (2000)                          & Action\\textbar{}Thriller             & 2000                                 \\\\\n",
       "\\end{tabular}\n"
      ],
      "text/markdown": [
       "\n",
       "movieID | no.-of-users-voted | title | genres | release_year | \n",
       "|---|---|---|---|---|---|---|---|---|---|\n",
       "| 3578                         | 1924                         | Gladiator (2000)             | Action|Drama                 | 2000                         | \n",
       "| 3793                         | 1511                         | X-Men (2000)                 | Action|Sci-Fi                | 2000                         | \n",
       "| 3481                         | 1373                         | High Fidelity (2000)         | Comedy                       | 2000                         | \n",
       "| 3751                         | 1329                         | Chicken Run (2000)           | Animation|Children's|Comedy  | 2000                         | \n",
       "| 3408                         | 1315                         | Erin Brockovich (2000)       | Drama                        | 2000                         | \n",
       "| 3623                         | 1313                         | Mission: Impossible 2 (2000) | Action|Thriller              | 2000                         | \n",
       "| 3753                         | 1240                         | Patriot, The (2000)          | Action|Drama|War             | 2000                         | \n",
       "| 3755                         | 1013                         | Perfect Storm, The (2000)    | Action|Adventure|Thriller    | 2000                         | \n",
       "| 3897                         |  994                         | Almost Famous (2000)         | Comedy|Drama                 | 2000                         | \n",
       "| 3555                         |  908                         | U-571 (2000)                 | Action|Thriller              | 2000                         | \n",
       "\n",
       "\n"
      ],
      "text/plain": [
       "   movieID no.-of-users-voted title                       \n",
       "1  3578    1924               Gladiator (2000)            \n",
       "2  3793    1511               X-Men (2000)                \n",
       "3  3481    1373               High Fidelity (2000)        \n",
       "4  3751    1329               Chicken Run (2000)          \n",
       "5  3408    1315               Erin Brockovich (2000)      \n",
       "6  3623    1313               Mission: Impossible 2 (2000)\n",
       "7  3753    1240               Patriot, The (2000)         \n",
       "8  3755    1013               Perfect Storm, The (2000)   \n",
       "9  3897     994               Almost Famous (2000)        \n",
       "10 3555     908               U-571 (2000)                \n",
       "   genres                      release_year\n",
       "1  Action|Drama                2000        \n",
       "2  Action|Sci-Fi               2000        \n",
       "3  Comedy                      2000        \n",
       "4  Animation|Children's|Comedy 2000        \n",
       "5  Drama                       2000        \n",
       "6  Action|Thriller             2000        \n",
       "7  Action|Drama|War            2000        \n",
       "8  Action|Adventure|Thriller   2000        \n",
       "9  Comedy|Drama                2000        \n",
       "10 Action|Thriller             2000        "
      ]
     },
     "metadata": {},
     "output_type": "display_data"
    }
   ],
   "source": [
    "top_in_2000= number_vote_title_year %>% filter(release_year == 2000) \n",
    "head(top_in_2000,n=10)"
   ]
  },
  {
   "cell_type": "code",
   "execution_count": 14,
   "metadata": {
    "scrolled": true
   },
   "outputs": [
    {
     "data": {
      "text/html": [
       "<table>\n",
       "<thead><tr><th scope=col>movieID</th><th scope=col>no.-of-users-voted</th><th scope=col>title</th><th scope=col>genres</th><th scope=col>release_year</th></tr></thead>\n",
       "<tbody>\n",
       "\t<tr><td>1196                                                 </td><td>2990                                                 </td><td>Star Wars: Episode V - The Empire Strikes Back (1980)</td><td>Action|Adventure|Drama|Sci-Fi|War                    </td><td>1980                                                 </td></tr>\n",
       "\t<tr><td>2791                                                 </td><td>1731                                                 </td><td>Airplane! (1980)                                     </td><td>Comedy                                               </td><td>1980                                                 </td></tr>\n",
       "\t<tr><td>1220                                                 </td><td>1341                                                 </td><td>Blues Brothers, The (1980)                           </td><td>Action|Comedy|Musical                                </td><td>1980                                                 </td></tr>\n",
       "\t<tr><td>1258                                                 </td><td>1087                                                 </td><td>Shining, The (1980)                                  </td><td>Horror                                               </td><td>1980                                                 </td></tr>\n",
       "\t<tr><td>3552                                                 </td><td> 967                                                 </td><td>Caddyshack (1980)                                    </td><td>Comedy                                               </td><td>1980                                                 </td></tr>\n",
       "\t<tr><td>2641                                                 </td><td> 846                                                 </td><td>Superman II (1980)                                   </td><td>Action|Adventure|Sci-Fi                              </td><td>1980                                                 </td></tr>\n",
       "\t<tr><td>2150                                                 </td><td> 695                                                 </td><td>Gods Must Be Crazy, The (1980)                       </td><td>Comedy                                               </td><td>1980                                                 </td></tr>\n",
       "\t<tr><td>1228                                                 </td><td> 677                                                 </td><td>Raging Bull (1980)                                   </td><td>Drama                                                </td><td>1980                                                 </td></tr>\n",
       "\t<tr><td>1956                                                 </td><td> 507                                                 </td><td>Ordinary People (1980)                               </td><td>Drama                                                </td><td>1980                                                 </td></tr>\n",
       "\t<tr><td>2088                                                 </td><td> 471                                                 </td><td>Popeye (1980)                                        </td><td>Adventure|Comedy|Musical                             </td><td>1980                                                 </td></tr>\n",
       "</tbody>\n",
       "</table>\n"
      ],
      "text/latex": [
       "\\begin{tabular}{r|lllll}\n",
       " movieID & no.-of-users-voted & title & genres & release\\_year\\\\\n",
       "\\hline\n",
       "\t 1196                                                                      & 2990                                                                      & Star Wars: Episode V - The Empire Strikes Back (1980)                     & Action\\textbar{}Adventure\\textbar{}Drama\\textbar{}Sci-Fi\\textbar{}War & 1980                                                                     \\\\\n",
       "\t 2791                                                  & 1731                                                  & Airplane! (1980)                                      & Comedy                                                & 1980                                                 \\\\\n",
       "\t 1220                                                  & 1341                                                  & Blues Brothers, The (1980)                            & Action\\textbar{}Comedy\\textbar{}Musical             & 1980                                                 \\\\\n",
       "\t 1258                                                  & 1087                                                  & Shining, The (1980)                                   & Horror                                                & 1980                                                 \\\\\n",
       "\t 3552                                                  &  967                                                  & Caddyshack (1980)                                     & Comedy                                                & 1980                                                 \\\\\n",
       "\t 2641                                                  &  846                                                  & Superman II (1980)                                    & Action\\textbar{}Adventure\\textbar{}Sci-Fi           & 1980                                                 \\\\\n",
       "\t 2150                                                  &  695                                                  & Gods Must Be Crazy, The (1980)                        & Comedy                                                & 1980                                                 \\\\\n",
       "\t 1228                                                  &  677                                                  & Raging Bull (1980)                                    & Drama                                                 & 1980                                                 \\\\\n",
       "\t 1956                                                  &  507                                                  & Ordinary People (1980)                                & Drama                                                 & 1980                                                 \\\\\n",
       "\t 2088                                                  &  471                                                  & Popeye (1980)                                         & Adventure\\textbar{}Comedy\\textbar{}Musical          & 1980                                                 \\\\\n",
       "\\end{tabular}\n"
      ],
      "text/markdown": [
       "\n",
       "movieID | no.-of-users-voted | title | genres | release_year | \n",
       "|---|---|---|---|---|---|---|---|---|---|\n",
       "| 1196                                                  | 2990                                                  | Star Wars: Episode V - The Empire Strikes Back (1980) | Action|Adventure|Drama|Sci-Fi|War                     | 1980                                                  | \n",
       "| 2791                                                  | 1731                                                  | Airplane! (1980)                                      | Comedy                                                | 1980                                                  | \n",
       "| 1220                                                  | 1341                                                  | Blues Brothers, The (1980)                            | Action|Comedy|Musical                                 | 1980                                                  | \n",
       "| 1258                                                  | 1087                                                  | Shining, The (1980)                                   | Horror                                                | 1980                                                  | \n",
       "| 3552                                                  |  967                                                  | Caddyshack (1980)                                     | Comedy                                                | 1980                                                  | \n",
       "| 2641                                                  |  846                                                  | Superman II (1980)                                    | Action|Adventure|Sci-Fi                               | 1980                                                  | \n",
       "| 2150                                                  |  695                                                  | Gods Must Be Crazy, The (1980)                        | Comedy                                                | 1980                                                  | \n",
       "| 1228                                                  |  677                                                  | Raging Bull (1980)                                    | Drama                                                 | 1980                                                  | \n",
       "| 1956                                                  |  507                                                  | Ordinary People (1980)                                | Drama                                                 | 1980                                                  | \n",
       "| 2088                                                  |  471                                                  | Popeye (1980)                                         | Adventure|Comedy|Musical                              | 1980                                                  | \n",
       "\n",
       "\n"
      ],
      "text/plain": [
       "   movieID no.-of-users-voted\n",
       "1  1196    2990              \n",
       "2  2791    1731              \n",
       "3  1220    1341              \n",
       "4  1258    1087              \n",
       "5  3552     967              \n",
       "6  2641     846              \n",
       "7  2150     695              \n",
       "8  1228     677              \n",
       "9  1956     507              \n",
       "10 2088     471              \n",
       "   title                                                \n",
       "1  Star Wars: Episode V - The Empire Strikes Back (1980)\n",
       "2  Airplane! (1980)                                     \n",
       "3  Blues Brothers, The (1980)                           \n",
       "4  Shining, The (1980)                                  \n",
       "5  Caddyshack (1980)                                    \n",
       "6  Superman II (1980)                                   \n",
       "7  Gods Must Be Crazy, The (1980)                       \n",
       "8  Raging Bull (1980)                                   \n",
       "9  Ordinary People (1980)                               \n",
       "10 Popeye (1980)                                        \n",
       "   genres                            release_year\n",
       "1  Action|Adventure|Drama|Sci-Fi|War 1980        \n",
       "2  Comedy                            1980        \n",
       "3  Action|Comedy|Musical             1980        \n",
       "4  Horror                            1980        \n",
       "5  Comedy                            1980        \n",
       "6  Action|Adventure|Sci-Fi           1980        \n",
       "7  Comedy                            1980        \n",
       "8  Drama                             1980        \n",
       "9  Drama                             1980        \n",
       "10 Adventure|Comedy|Musical          1980        "
      ]
     },
     "metadata": {},
     "output_type": "display_data"
    }
   ],
   "source": [
    "# for comparision in 1980 and in 1990 \n",
    "top_in_1990 = number_vote_title_year %>% filter(release_year == 1990) \n",
    "top_in_1980 = number_vote_title_year %>% filter(release_year == 1980)\n",
    "head(top_in_1980,n=10)"
   ]
  },
  {
   "cell_type": "markdown",
   "metadata": {},
   "source": [
    "### Section-3  \"Please describe the characteristics of users likely to rate a fantasy movie as a 5?\""
   ]
  },
  {
   "cell_type": "markdown",
   "metadata": {},
   "source": [
    "#### Merging/ joining the whole data set is necessary, to understanding users characters who rated fantasy as a 5"
   ]
  },
  {
   "cell_type": "code",
   "execution_count": 15,
   "metadata": {},
   "outputs": [],
   "source": [
    "# merging data\n",
    "movies_ratings = merge(movie,ratings,by= \"movieID\")\n",
    "movielens=merge(movies_ratings,users, by=\"userID\",stringsAsFactors = FALSE) %>% na.omit()\n",
    "# filtering genres that incorporates Fantasy\n",
    "fantasy = movielens%>% filter(str_detect(genres,\"Fantasy\")) %>% filter(rating==5)\n"
   ]
  },
  {
   "cell_type": "code",
   "execution_count": 16,
   "metadata": {},
   "outputs": [
    {
     "data": {
      "text/html": [
       "<table>\n",
       "<thead><tr><th scope=col>userID</th><th scope=col>movieID</th><th scope=col>title</th><th scope=col>genres</th><th scope=col>rating</th><th scope=col>timestamp</th><th scope=col>gender</th><th scope=col>age</th><th scope=col>occupation</th><th scope=col>zip-code</th><th scope=col>release_year</th></tr></thead>\n",
       "<tbody>\n",
       "\t<tr><td>10                                       </td><td>260                                      </td><td>Star Wars: Episode IV - A New Hope (1977)</td><td>Action|Adventure|Fantasy|Sci-Fi          </td><td>5                                        </td><td>979168077                                </td><td>F                                        </td><td>35                                       </td><td>1                                        </td><td>95370                                    </td><td>1977                                     </td></tr>\n",
       "\t<tr><td>10                                       </td><td>2140                                     </td><td>Dark Crystal, The (1982)                 </td><td>Children's|Fantasy|Sci-Fi                </td><td>5                                        </td><td>979168295                                </td><td>F                                        </td><td>35                                       </td><td>1                                        </td><td>95370                                    </td><td>1982                                     </td></tr>\n",
       "\t<tr><td>10                                       </td><td>2015                                     </td><td>Absent Minded Professor, The (1961)      </td><td>Children's|Comedy|Fantasy                </td><td>5                                        </td><td>978228601                                </td><td>F                                        </td><td>35                                       </td><td>1                                        </td><td>95370                                    </td><td>1961                                     </td></tr>\n",
       "\t<tr><td>10                                       </td><td>2174                                     </td><td>Beetlejuice (1988)                       </td><td>Comedy|Fantasy                           </td><td>5                                        </td><td>978227669                                </td><td>F                                        </td><td>35                                       </td><td>1                                        </td><td>95370                                    </td><td>1988                                     </td></tr>\n",
       "\t<tr><td>10                                       </td><td>1009                                     </td><td>Escape to Witch Mountain (1975)          </td><td>Adventure|Children's|Fantasy             </td><td>5                                        </td><td>979168267                                </td><td>F                                        </td><td>35                                       </td><td>1                                        </td><td>95370                                    </td><td>1975                                     </td></tr>\n",
       "\t<tr><td>10                                       </td><td>1654                                     </td><td>FairyTale: A True Story (1997)           </td><td>Children's|Drama|Fantasy                 </td><td>5                                        </td><td>979168346                                </td><td>F                                        </td><td>35                                       </td><td>1                                        </td><td>95370                                    </td><td>1997                                     </td></tr>\n",
       "</tbody>\n",
       "</table>\n"
      ],
      "text/latex": [
       "\\begin{tabular}{r|lllllllllll}\n",
       " userID & movieID & title & genres & rating & timestamp & gender & age & occupation & zip-code & release\\_year\\\\\n",
       "\\hline\n",
       "\t 10                                                            & 260                                                           & Star Wars: Episode IV - A New Hope (1977)                     & Action\\textbar{}Adventure\\textbar{}Fantasy\\textbar{}Sci-Fi & 5                                                             & 979168077                                                     & F                                                             & 35                                                            & 1                                                             & 95370                                                         & 1977                                                         \\\\\n",
       "\t 10                                                  & 2140                                                & Dark Crystal, The (1982)                            & Children's\\textbar{}Fantasy\\textbar{}Sci-Fi       & 5                                                   & 979168295                                           & F                                                   & 35                                                  & 1                                                   & 95370                                               & 1982                                               \\\\\n",
       "\t 10                                                  & 2015                                                & Absent Minded Professor, The (1961)                 & Children's\\textbar{}Comedy\\textbar{}Fantasy       & 5                                                   & 978228601                                           & F                                                   & 35                                                  & 1                                                   & 95370                                               & 1961                                               \\\\\n",
       "\t 10                                        & 2174                                      & Beetlejuice (1988)                        & Comedy\\textbar{}Fantasy                  & 5                                         & 978227669                                 & F                                         & 35                                        & 1                                         & 95370                                     & 1988                                     \\\\\n",
       "\t 10                                                  & 1009                                                & Escape to Witch Mountain (1975)                     & Adventure\\textbar{}Children's\\textbar{}Fantasy    & 5                                                   & 979168267                                           & F                                                   & 35                                                  & 1                                                   & 95370                                               & 1975                                               \\\\\n",
       "\t 10                                                  & 1654                                                & FairyTale: A True Story (1997)                      & Children's\\textbar{}Drama\\textbar{}Fantasy        & 5                                                   & 979168346                                           & F                                                   & 35                                                  & 1                                                   & 95370                                               & 1997                                               \\\\\n",
       "\\end{tabular}\n"
      ],
      "text/markdown": [
       "\n",
       "userID | movieID | title | genres | rating | timestamp | gender | age | occupation | zip-code | release_year | \n",
       "|---|---|---|---|---|---|\n",
       "| 10                                        | 260                                       | Star Wars: Episode IV - A New Hope (1977) | Action|Adventure|Fantasy|Sci-Fi           | 5                                         | 979168077                                 | F                                         | 35                                        | 1                                         | 95370                                     | 1977                                      | \n",
       "| 10                                        | 2140                                      | Dark Crystal, The (1982)                  | Children's|Fantasy|Sci-Fi                 | 5                                         | 979168295                                 | F                                         | 35                                        | 1                                         | 95370                                     | 1982                                      | \n",
       "| 10                                        | 2015                                      | Absent Minded Professor, The (1961)       | Children's|Comedy|Fantasy                 | 5                                         | 978228601                                 | F                                         | 35                                        | 1                                         | 95370                                     | 1961                                      | \n",
       "| 10                                        | 2174                                      | Beetlejuice (1988)                        | Comedy|Fantasy                            | 5                                         | 978227669                                 | F                                         | 35                                        | 1                                         | 95370                                     | 1988                                      | \n",
       "| 10                                        | 1009                                      | Escape to Witch Mountain (1975)           | Adventure|Children's|Fantasy              | 5                                         | 979168267                                 | F                                         | 35                                        | 1                                         | 95370                                     | 1975                                      | \n",
       "| 10                                        | 1654                                      | FairyTale: A True Story (1997)            | Children's|Drama|Fantasy                  | 5                                         | 979168346                                 | F                                         | 35                                        | 1                                         | 95370                                     | 1997                                      | \n",
       "\n",
       "\n"
      ],
      "text/plain": [
       "  userID movieID title                                    \n",
       "1 10     260     Star Wars: Episode IV - A New Hope (1977)\n",
       "2 10     2140    Dark Crystal, The (1982)                 \n",
       "3 10     2015    Absent Minded Professor, The (1961)      \n",
       "4 10     2174    Beetlejuice (1988)                       \n",
       "5 10     1009    Escape to Witch Mountain (1975)          \n",
       "6 10     1654    FairyTale: A True Story (1997)           \n",
       "  genres                          rating timestamp gender age occupation\n",
       "1 Action|Adventure|Fantasy|Sci-Fi 5      979168077 F      35  1         \n",
       "2 Children's|Fantasy|Sci-Fi       5      979168295 F      35  1         \n",
       "3 Children's|Comedy|Fantasy       5      978228601 F      35  1         \n",
       "4 Comedy|Fantasy                  5      978227669 F      35  1         \n",
       "5 Adventure|Children's|Fantasy    5      979168267 F      35  1         \n",
       "6 Children's|Drama|Fantasy        5      979168346 F      35  1         \n",
       "  zip-code release_year\n",
       "1 95370    1977        \n",
       "2 95370    1982        \n",
       "3 95370    1961        \n",
       "4 95370    1988        \n",
       "5 95370    1975        \n",
       "6 95370    1997        "
      ]
     },
     "metadata": {},
     "output_type": "display_data"
    }
   ],
   "source": [
    "# similar to section-1, extracting the (year) from the title and preparing for filtering \n",
    "fantasy_release_year = stringi::stri_extract(fantasy$title, regex = \"(\\\\d{4})\", comments = TRUE ) %>% as.numeric() %>% na.omit()\n",
    "# forming the table that has separate realease year\n",
    "fantasy = fantasy %>% mutate(release_year = as.integer(fantasy_release_year)) \n",
    "head(fantasy)"
   ]
  },
  {
   "cell_type": "markdown",
   "metadata": {},
   "source": [
    "### Characterstics of Users who rated Fantasy as a 5\n",
    "\n",
    "#### Gender"
   ]
  },
  {
   "cell_type": "code",
   "execution_count": 33,
   "metadata": {},
   "outputs": [
    {
     "data": {},
     "metadata": {},
     "output_type": "display_data"
    },
    {
     "data": {
      "image/png": "[encoded data removed]",
      "text/plain": [
       "plot without title"
      ]
     },
     "metadata": {},
     "output_type": "display_data"
    }
   ],
   "source": [
    "top_title = fantasy %>% group_by(title) %>% summarize(count=n()) %>% top_n(5,count) %>% arrange(desc(count))\n",
    "top_title %>% \n",
    "  ggplot(aes(x=reorder(title, count), y=count)) +\n",
    "  geom_bar(stat='identity', fill=\"blue\") + coord_flip(y=c(0, 3000)) +\n",
    "  labs(x=\"\", y=\"Number of Ratings\") +\n",
    "  geom_text(aes(label= count), hjust=-0.1, size=3) +\n",
    "  labs(title=\"Top 5 Fantasy Movies Title Based on High Ratings\")"
   ]
  },
  {
   "cell_type": "markdown",
   "metadata": {},
   "source": [
    "###  Based on Age Group of users who rated fantasy as a 5"
   ]
  },
  {
   "cell_type": "markdown",
   "metadata": {},
   "source": [
    "The age group who likely rate fantasy movies are from the young (20-30) and the teenage (10-19) group. On the contrary, the middle-age group (40-49) has shown less interest to rate fantasy as 5 than their elders (50-59)."
   ]
  },
  {
   "cell_type": "code",
   "execution_count": 35,
   "metadata": {},
   "outputs": [
    {
     "data": {},
     "metadata": {},
     "output_type": "display_data"
    },
    {
     "data": {
      "image/png": "[encoded data removed]",
      "text/plain": [
       "plot without title"
      ]
     },
     "metadata": {},
     "output_type": "display_data"
    }
   ],
   "source": [
    "# Age lable from Readme text in the data\n",
    "agelabel = c('0-9', '10-19', '20-29', '30-39', '40-49', '50-59', '60-69', '70-79')\n",
    "fantasy$age_group <- cut(as.numeric(fantasy$age),seq(0,81,10), include.lowest=TRUE, right=FALSE, labels=agelabel)\n",
    "rating_by_age_group <- fantasy %>% group_by(age_group) %>% summarise(count=n())\n",
    "rating_by_age_group %>% \n",
    "  ggplot(aes(x=reorder(age_group, count), y=count)) +\n",
    "  geom_bar(stat='identity', fill=\"gray\") + \n",
    "  labs(x=\"Age Group\", y=\"Number of Ratings\") +\n",
    "  geom_text(aes(label= count), hjust=-0.1, size=3) +\n",
    "  labs(title=\"Age Group of Users Likely to Rate a Fantasy Movie as a 5\")"
   ]
  },
  {
   "cell_type": "markdown",
   "metadata": {},
   "source": [
    "### Based on Gender Group of users who rated fantasy as a 5"
   ]
  },
  {
   "cell_type": "markdown",
   "metadata": {},
   "source": [
    "The percentage proportion difference between male and female who likely to rate fantasy as a 5 is huge, ~ 74% to 26% respectively. On the other hand, females have shown a better interest for romance to rate as a 5, with a proportion of 62% for males to 37% for females."
   ]
  },
  {
   "cell_type": "code",
   "execution_count": 51,
   "metadata": {},
   "outputs": [
    {
     "data": {
      "text/html": [
       "<table>\n",
       "<thead><tr><th scope=col>Males</th><th scope=col>Females</th></tr></thead>\n",
       "<tbody>\n",
       "\t<tr><td>73.55845</td><td>26.44155</td></tr>\n",
       "</tbody>\n",
       "</table>\n"
      ],
      "text/latex": [
       "\\begin{tabular}{r|ll}\n",
       " Males & Females\\\\\n",
       "\\hline\n",
       "\t 73.55845 & 26.44155\\\\\n",
       "\\end{tabular}\n"
      ],
      "text/markdown": [
       "\n",
       "Males | Females | \n",
       "|---|\n",
       "| 73.55845 | 26.44155 | \n",
       "\n",
       "\n"
      ],
      "text/plain": [
       "  Males    Females \n",
       "1 73.55845 26.44155"
      ]
     },
     "metadata": {},
     "output_type": "display_data"
    }
   ],
   "source": [
    "# gender proportion for fantasy movies\n",
    "library(data.table)\n",
    "setDT(fantasy)[, list(Males = sum(gender == \"M\")/.N *100, \n",
    "                 Females = sum(gender == \"F\")/.N *100),]"
   ]
  },
  {
   "cell_type": "code",
   "execution_count": 53,
   "metadata": {},
   "outputs": [
    {
     "data": {
      "text/html": [
       "<table>\n",
       "<thead><tr><th scope=col>Males</th><th scope=col>Females</th></tr></thead>\n",
       "<tbody>\n",
       "\t<tr><td>62.307</td><td>37.693</td></tr>\n",
       "</tbody>\n",
       "</table>\n"
      ],
      "text/latex": [
       "\\begin{tabular}{r|ll}\n",
       " Males & Females\\\\\n",
       "\\hline\n",
       "\t 62.307 & 37.693\\\\\n",
       "\\end{tabular}\n"
      ],
      "text/markdown": [
       "\n",
       "Males | Females | \n",
       "|---|\n",
       "| 62.307 | 37.693 | \n",
       "\n",
       "\n"
      ],
      "text/plain": [
       "  Males  Females\n",
       "1 62.307 37.693 "
      ]
     },
     "metadata": {},
     "output_type": "display_data"
    }
   ],
   "source": [
    "# gender proportion for romance movies who likely rate as a 5\n",
    "romance = movielens %>% filter(str_detect(genres,\"Romance\")) %>% filter(rating==5)\n",
    "setDT(romance)[, list(Males = sum(gender == \"M\")/.N *100, \n",
    "                 Females = sum(gender == \"F\")/.N *100),]"
   ]
  },
  {
   "cell_type": "code",
   "execution_count": 48,
   "metadata": {},
   "outputs": [
    {
     "data": {},
     "metadata": {},
     "output_type": "display_data"
    },
    {
     "data": {
      "image/png": "[encoded data removed]",
      "text/plain": [
       "plot without title"
      ]
     },
     "metadata": {},
     "output_type": "display_data"
    }
   ],
   "source": [
    "gender_prop <- fantasy %>% group_by(gender) %>% summarize(count=n()) %>% top_n(5,count) %>% arrange(desc(count))\n",
    "gender_prop %>%\n",
    "ggplot(aes(x=reorder(gender, count), y=count)) +\n",
    "  geom_bar(stat='identity', fill=\"blue\") +\n",
    "  labs(x=\"Gender\", y=\"Number of ratings\") +\n",
    "  geom_text(aes(label= count), hjust=-0.1, size=3) +\n",
    "  labs(title=\"Gender Group of Users Likely\n",
    "  to Rate a Fantasy Movie as a 5 \")\n",
    "options(repr.plot.width=8, repr.plot.height=3)"
   ]
  },
  {
   "cell_type": "markdown",
   "metadata": {},
   "source": [
    "### Based on Occupation Group of users who rated fantasy as a 5"
   ]
  },
  {
   "cell_type": "markdown",
   "metadata": {},
   "source": [
    "The top 5 occupations who likely rate fantasy as a 5 are college/graduate students, executive/managerial, technician/engineer, academic/educator. Given the nature of fantasy movies, which needs the activity of imagining things, professionals with post-secondary academic background favor them. "
   ]
  },
  {
   "cell_type": "code",
   "execution_count": 75,
   "metadata": {},
   "outputs": [
    {
     "data": {},
     "metadata": {},
     "output_type": "display_data"
    },
    {
     "data": {
      "image/png": "[encoded data removed]",
      "text/plain": [
       "plot without title"
      ]
     },
     "metadata": {},
     "output_type": "display_data"
    }
   ],
   "source": [
    "occup_label = c( \"other-not specified\",\"academic/educator\",\"artist\", \"clerical/admin\",\"college/grad student\",\n",
    "                \"customer service\",\"doctor/health care\",\"executive/managerial\",\"farmer\",\"homemaker\",\"K-12 student\",\n",
    "                \"lawyer\",\"programmer\",\"retired\",\"sales/marketing\",\"scientist\",\"self-employed\",\"technician/engineer\",\n",
    "                \"tradesman/craftsman\",\"unemployed\",\"writer\")\n",
    "\n",
    "# I tried to\n",
    "top_occupation <- fantasy %>% group_by(occupation) %>% summarize(count=n()) %>% top_n(5,count) %>% arrange(desc(count))\n",
    "top_occupation %>% \n",
    "  ggplot(aes(x=reorder(occupation, count), y=count)) +\n",
    "  geom_bar(stat='identity', fill=\"blue\") + coord_flip(y=c(0, 1000)) +\n",
    "  labs(x=\"occuptional label\", y=\"Number of ratings\") +\n",
    "  geom_text(aes(label= count), hjust=-0.1, size=3) +\n",
    "  labs(title=\"Based on occupation likely to rate fantasy as 5\" )\n",
    "options(repr.plot.width=8, repr.plot.height=3)\n"
   ]
  },
  {
   "cell_type": "markdown",
   "metadata": {},
   "source": [
    "### Section-3 Provide an analysis of movie ratings by one of the following user characteristics: Gender- Occupation"
   ]
  },
  {
   "cell_type": "markdown",
   "metadata": {},
   "source": [
    "##### Occupational lable from Readme file\n",
    "0:  \"other\" or not specified\n",
    "\t*  1:  \"academic/educator\"\n",
    "\t*  2:  \"artist\"\n",
    "\t*  3:  \"clerical/admin\"\n",
    "\t*  4:  \"college/grad student\"\n",
    "\t*  5:  \"customer service\"\n",
    "\t*  6:  \"doctor/health care\"\n",
    "\t*  7:  \"executive/managerial\"\n",
    "\t*  8:  \"farmer\"\n",
    "\t*  9:  \"homemaker\"\n",
    "\t* 10:  \"K-12 student\"\n",
    "\t* 11:  \"lawyer\"\n",
    "\t* 12:  \"programmer\"\n",
    "\t* 13:  \"retired\"\n",
    "\t* 14:  \"sales/marketing\"\n",
    "\t* 15:  \"scientist\"\n",
    "\t* 16:  \"self-employed\"\n",
    "\t* 17:  \"technician/engineer\"\n",
    "\t* 18:  \"tradesman/craftsman\"\n",
    "\t* 19:  \"unemployed\"\n",
    "\t* 20:  \"writer\""
   ]
  },
  {
   "cell_type": "markdown",
   "metadata": {},
   "source": [
    "I tried to incorporate the occupation label as I did for age-group, but my Jupiter notebook takes time to process. The highest male percentage based on occupation is from tradesman/craftsman (lable-18) sector and the least is from farming(lable-9). Similarly, the doctors/health care sector (lable-6) also shown the least male representation in the rating "
   ]
  },
  {
   "cell_type": "code",
   "execution_count": 103,
   "metadata": {},
   "outputs": [
    {
     "data": {},
     "metadata": {},
     "output_type": "display_data"
    },
    {
     "data": {
      "image/png": "[encoded data removed]",
      "text/plain": [
       "plot without title"
      ]
     },
     "metadata": {},
     "output_type": "display_data"
    }
   ],
   "source": [
    "gender_movielens = ddply(movielens, ~occupation, summarize, perc_male = (length(gender[gender == \"M\"])/length(gender)), counts = -length(userID))\n",
    "genderPlot = ggplot(gender_movielens, aes(x = reorder(occupation, counts), perc_male)) + geom_bar(stat = \"identity\")+\n",
    "labs(title=\"Percentage of males in different occupations\")+labs(x=\"Occupation\", y=\"Males percentage\")\n",
    "genderPlot"
   ]
  },
  {
   "cell_type": "code",
   "execution_count": 110,
   "metadata": {},
   "outputs": [
    {
     "data": {
      "text/html": [
       "'C:/Users/user'"
      ],
      "text/latex": [
       "'C:/Users/user'"
      ],
      "text/markdown": [
       "'C:/Users/user'"
      ],
      "text/plain": [
       "[1] \"C:/Users/user\""
      ]
     },
     "metadata": {},
     "output_type": "display_data"
    }
   ],
   "source": [
    "data= readLines('C://Users/user/Movielens-assignment .ipynb')"
   ]
  }
 ],
 "metadata": {
  "kernelspec": {
   "display_name": "R",
   "language": "R",
   "name": "ir"
  },
  "language_info": {
   "codemirror_mode": "r",
   "file_extension": ".r",
   "mimetype": "text/x-r-source",
   "name": "R",
   "pygments_lexer": "r",
   "version": "3.5.1"
  }
 },
 "nbformat": 4,
 "nbformat_minor": 2
}
